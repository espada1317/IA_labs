{
 "cells": [
  {
   "cell_type": "markdown",
   "id": "7d252a8d",
   "metadata": {
    "id": "7d252a8d"
   },
   "source": [
    "# FCIM.M.IA - Artificial Intelligence\n",
    "\n",
    "> **Lab 3:** Chess Engine \\\\\n",
    "> **Performed by:** Trifan Denis, group TI-231M \\\\\n",
    "> **Verified by:** Mihail Gavrilita, asist. univ."
   ]
  },
  {
   "cell_type": "markdown",
   "id": "7146ed9b",
   "metadata": {
    "id": "7146ed9b"
   },
   "source": [
    "## Task 1 -- Implement the Minimax algorithm with the following scoring function: Score = MaterialValue + PositionalValue. For computing the MaterialValue, each piece is assigned a value (e.g., Pawn = 1, Knight = 3, Bishop = 3, Rook = 5, Queen = 9). Then you sum these values for your pieces and subtract the value of the pieces of the opponent. For computing the PositionalValue, you should take into account the position of each pieces on the board (e.g the more squares a pawn has travelled, the higher their PositionalValue etc.). You should then subtract the opponent’s PositionalValue from your pieces’ PositionalValue."
   ]
  },
  {
   "cell_type": "code",
   "execution_count": 1,
   "id": "e87b5df3-6be2-4667-b181-8d3f77421d99",
   "metadata": {
    "ExecuteTime": {
     "end_time": "2024-04-12T10:47:56.714874Z",
     "start_time": "2024-04-12T10:47:56.292304Z"
    },
    "id": "6531cedd"
   },
   "outputs": [],
   "source": [
    "def minimax(board, depth, max_player, save_move, data):\n",
    "    # check if depth is 0 and evaluate the board for score\n",
    "    if depth == 0 or board.is_terminal():\n",
    "        data[1] = board.evaluate()\n",
    "        return data\n",
    "\n",
    "    # recursively check if it's maximizing move\n",
    "    if max_player:\n",
    "        # initialize max score with -inf\n",
    "        max_eval = -math.inf\n",
    "        for i in range(8):\n",
    "            for j in range(8):\n",
    "                # check if element on position i,j is a chess piece and if piece belong to oponent color\n",
    "                if isinstance(board[i][j], ChessPiece) and board[i][j].color != board.get_player_color():\n",
    "                    piece = board[i][j]\n",
    "                    # filter valid moves for the piece\n",
    "                    moves = piece.filter_moves(piece.get_moves(board), board)\n",
    "                    # iterate for every move\n",
    "                    for move in moves:\n",
    "                        # make the move\n",
    "                        board.make_move(piece, move[0], move[1], keep_history=True)\n",
    "                        # call oponent's move\n",
    "                        evaluation = minimax(board, depth - 1, False, False, data)[1]\n",
    "                        if save_move:\n",
    "                            # update max value move\n",
    "                            if evaluation >= max_eval:\n",
    "                                if evaluation > data[1]:\n",
    "                                    data.clear()\n",
    "                                    data[1] = evaluation\n",
    "                                    data[0] = [piece, move, evaluation]\n",
    "                                elif evaluation == data[1]:\n",
    "                                    data[0].append([piece, move, evaluation])\n",
    "                        # undo last move\n",
    "                        board.unmake_move(piece)\n",
    "                        # update max move\n",
    "                        max_eval = max(max_eval, evaluation)\n",
    "        return data\n",
    "    else:\n",
    "        # for oponent minimizing move\n",
    "        min_eval = math.inf\n",
    "        for i in range(8):\n",
    "            for j in range(8):\n",
    "                # check if element on position i,j is a chess piece and if piece belong to player itself\n",
    "                if isinstance(board[i][j], ChessPiece) and board[i][j].color == board.get_player_color():\n",
    "                    piece = board[i][j]\n",
    "                    # filter moves\n",
    "                    moves = piece.get_moves(board)\n",
    "                    for move in moves:\n",
    "                        # make the move of piece\n",
    "                        board.make_move(piece, move[0], move[1], keep_history=True)\n",
    "                        # make oponent move\n",
    "                        evaluation = minimax(board, depth - 1, True, False, data)[1]\n",
    "                        board.unmake_move(piece)\n",
    "                        # update min value\n",
    "                        min_eval = min(min_eval, evaluation)\n",
    "        return data\n",
    "\n",
    "def evaluate(self):\n",
    "    white_points = 0\n",
    "    black_points = 0\n",
    "    for i in range(8):\n",
    "        for j in range(8):\n",
    "            if isinstance(self[i][j], ChessPiece):\n",
    "                piece = self[i][j]\n",
    "                if piece.color == 'white':\n",
    "                    white_points += piece.get_score()\n",
    "                    white_points += piece.x + piece.y\n",
    "                else:\n",
    "                    black_points += piece.get_score()\n",
    "                    black_points += piece.x + piece.y\n",
    "    if self.game_mode == 0:\n",
    "        return black_points - white_points\n",
    "    return white_points - black_points"
   ]
  },
  {
   "cell_type": "markdown",
   "id": "0938e3e4",
   "metadata": {
    "id": "0938e3e4"
   },
   "source": [
    "## Task 2 -- Implement Alpha-Beta Prunning."
   ]
  },
  {
   "cell_type": "code",
   "execution_count": 2,
   "id": "6b0859a4",
   "metadata": {
    "ExecuteTime": {
     "end_time": "2024-04-12T10:47:59.232570Z",
     "start_time": "2024-04-12T10:47:58.745707Z"
    },
    "id": "6b0859a4"
   },
   "outputs": [],
   "source": [
    "def minimax_alpha_beta_pruning(board, depth, alpha, beta, max_player, save_move, data):\n",
    "    if depth == 0 or board.is_terminal():\n",
    "        data[1] = board.evaluate()\n",
    "        return data\n",
    "\n",
    "    if max_player:\n",
    "        max_eval = -math.inf\n",
    "        for i in range(8):\n",
    "            for j in range(8):\n",
    "                if isinstance(board[i][j], ChessPiece) and board[i][j].color != board.get_player_color():\n",
    "                    piece = board[i][j]\n",
    "                    moves = piece.filter_moves(piece.get_moves(board), board)\n",
    "                    for move in moves:\n",
    "                        board.make_move(piece, move[0], move[1], keep_history=True)\n",
    "                        evaluation = minimax_alpha_beta_pruning(board, depth - 1, alpha, beta, False, False, data)[1]\n",
    "                        if save_move:\n",
    "                            if evaluation >= max_eval:\n",
    "                                if evaluation > data[1]:\n",
    "                                    data.clear()\n",
    "                                    data[1] = evaluation\n",
    "                                    data[0] = [piece, move, evaluation]\n",
    "                                elif evaluation == data[1]:\n",
    "                                    data[0].append([piece, move, evaluation])\n",
    "                        board.unmake_move(piece)\n",
    "                        max_eval = max(max_eval, evaluation)\n",
    "                        # update alpha value to max evaluation\n",
    "                        alpha = max(alpha, evaluation)\n",
    "                        # terminate move\n",
    "                        if beta <= alpha:\n",
    "                            break\n",
    "        return data\n",
    "    else:\n",
    "        min_eval = math.inf\n",
    "        for i in range(8):\n",
    "            for j in range(8):\n",
    "                if isinstance(board[i][j], ChessPiece) and board[i][j].color == board.get_player_color():\n",
    "                    piece = board[i][j]\n",
    "                    moves = piece.get_moves(board)\n",
    "                    for move in moves:\n",
    "                        board.make_move(piece, move[0], move[1], keep_history=True)\n",
    "                        evaluation = minimax_alpha_beta_pruning(board, depth - 1, alpha, beta, True, False, data)[1]\n",
    "                        board.unmake_move(piece)\n",
    "                        min_eval = min(min_eval, evaluation)\n",
    "                        # update beta with min evaluation\n",
    "                        beta = min(beta, evaluation)\n",
    "                        if beta <= alpha:\n",
    "                            break\n",
    "        return data"
   ]
  },
  {
   "cell_type": "markdown",
   "id": "3f67a3d5",
   "metadata": {
    "id": "3f67a3d5"
   },
   "source": [
    "## Task 3 -- Implement an improved scoring (evaluation) method for Minimax. For example, you could add values like KingSafetyValue, MobilityValue (nr. of legal moves to each side), PawnStructureValue (can include penalties for isolated pawns, doubled pawns, and bonuses for passed pawns or a strong pawn chain), etc. You can also use heuristic evaluation functions. Be creative! "
   ]
  },
  {
   "cell_type": "code",
   "execution_count": 3,
   "id": "046623ad",
   "metadata": {
    "ExecuteTime": {
     "end_time": "2024-04-12T12:59:28.909304Z",
     "start_time": "2024-04-12T12:59:27.487185Z"
    },
    "id": "046623ad"
   },
   "outputs": [],
   "source": [
    "def calculate_king_safety(self, king):\n",
    "    safety_value = 0\n",
    "    king_x, king_y = king.x, king.y\n",
    "    player_color = king.color\n",
    "\n",
    "    # evaluate pawn shield in front of the king\n",
    "    pawn_shield = self.get_pawn_shield(king_x, king_y, player_color)\n",
    "    safety_value += len(pawn_shield)\n",
    "\n",
    "    # evaluate open files near the king\n",
    "    open_files = self.get_open_files(king_x, king_y)\n",
    "    safety_value += len(open_files) * 1\n",
    "\n",
    "    # evaluate piece placement near the king (knights, bishops)\n",
    "    piece_placement_value = self.evaluate_piece_placement(king_x, king_y, player_color)\n",
    "    safety_value += piece_placement_value\n",
    "\n",
    "    return safety_value\n",
    "\n",
    "def get_pawn_shield(self, king_x, king_y, color):\n",
    "    shield = []\n",
    "    king_row, king_col = king_x, king_y\n",
    "    # check coordinates of pawns in front of the king - left-forward, forward, rigth-forward\n",
    "    pawn_offsets = [(1, -1), (1, 0), (1, 1)] if color == 'White' else [(-1, -1), (-1, 0), (-1, 1)]\n",
    "    for offset in pawn_offsets:\n",
    "        row, col = king_row + offset[0], king_col + offset[1]\n",
    "        if self.is_valid_move(row, col) and isinstance(self[row][col], Pawn) and self[row][col].color == color:\n",
    "            shield.append((row, col))\n",
    "    return shield\n",
    "\n",
    "def get_open_files(self, king_x, king_y):\n",
    "    files = set()\n",
    "    king_row, king_col = king_x, king_y\n",
    "    for col in range(8):\n",
    "        if col != king_col:\n",
    "            open_file = True\n",
    "            for row in range(8):\n",
    "                if self[row][col] is not None:\n",
    "                    open_file = False\n",
    "                    break\n",
    "            if open_file:\n",
    "                files.add(col)\n",
    "    return files\n",
    "\n",
    "def evaluate_piece_placement(self, king_x, king_y, color):\n",
    "    placement_value = 0\n",
    "    king_row, king_col = king_x, king_y\n",
    "    for i in range(-1, 2):\n",
    "        for j in range(-1, 2):\n",
    "            row, col = king_row + i, king_col + j\n",
    "            if self.is_valid_move(row, col) and isinstance(self[row][col], (Knight, Bishop)):\n",
    "                placement_value += 0.5 if self[row][col].color == color else -0.5\n",
    "    return placement_value\n",
    "\n",
    "def evaluate(self):\n",
    "    white_points = 0\n",
    "    black_points = 0\n",
    "    for i in range(8):\n",
    "        for j in range(8):\n",
    "            if isinstance(self[i][j], ChessPiece):\n",
    "                piece = self[i][j]\n",
    "                if piece.color == 'white':\n",
    "                    white_points += piece.get_score()\n",
    "                    white_points += piece.x + piece.y\n",
    "                    if piece.type == 'King':\n",
    "                        white_points += self.calculate_king_safety(piece)\n",
    "                    white_points += len(piece.filter_moves(piece.get_moves(self), self))*0.5\n",
    "                else:\n",
    "                    black_points += piece.get_score()\n",
    "                    black_points += piece.x + piece.y\n",
    "                    if piece.type == 'King':\n",
    "                        black_points += self.calculate_king_safety(piece)\n",
    "                    black_points += len(piece.filter_moves(piece.get_moves(self), self))*0.5\n",
    "\n",
    "    if self.game_mode == 0:\n",
    "        return black_points - white_points\n",
    "    return white_points - black_points"
   ]
  },
  {
   "cell_type": "markdown",
   "id": "0e29d59a",
   "metadata": {
    "id": "0e29d59a"
   },
   "source": [
    "## Task 4 -- Add two improvements to the Minimax algorithm choosing from Progressive Deepening, Transposition Tables, Opening Books, Move Ordering, Aspiration Window etc."
   ]
  },
  {
   "cell_type": "code",
   "execution_count": 5,
   "id": "bd94be1e-93e4-42af-b9a5-e4ce38c051bf",
   "metadata": {
    "ExecuteTime": {
     "end_time": "2024-04-12T10:48:22.416495Z",
     "start_time": "2024-04-12T10:48:20.499550Z"
    },
    "id": "046623ad"
   },
   "outputs": [],
   "source": [
    "def get_hash_key(self):\n",
    "    hash_key = 0\n",
    "    for row in range(8):\n",
    "        for col in range(8):\n",
    "            piece = self.board[row][col]\n",
    "            # verify if element from position i,j is a chess figure\n",
    "            if isinstance(piece, ChessPiece):\n",
    "                piece_type = type(piece).__name__\n",
    "                color = piece.color\n",
    "                # calculate hashkey for every piece and adding to total value\n",
    "                hash_key ^= self.zobrist_keys[(piece_type, color, row, col)]\n",
    "    return hash_key\n",
    "\n",
    "def minimax_with_transposition(board, depth, alpha, beta, max_player, save_move, data):\n",
    "    # calculate hashcode for table\n",
    "    key = board.get_hash_key()\n",
    "    # verify if key already exist in table\n",
    "    if key in transposition_table:\n",
    "        # return this piece\n",
    "        return transposition_table[key]\n",
    "\n",
    "    if depth == 0 or board.is_terminal():\n",
    "        data[1] = board.evaluate()\n",
    "        return data\n",
    "\n",
    "    if max_player:\n",
    "        max_eval = -math.inf\n",
    "        for i in range(8):\n",
    "            for j in range(8):\n",
    "                if isinstance(board[i][j], ChessPiece) and board[i][j].color != board.get_player_color():\n",
    "                    piece = board[i][j]\n",
    "                    moves = piece.filter_moves(piece.get_moves(board), board)\n",
    "                    for move in moves:\n",
    "                        board.make_move(piece, move[0], move[1], keep_history=True)\n",
    "                        evaluation = minimax_with_transposition(board, depth - 1, alpha, beta, False, False, data)[1]\n",
    "                        if save_move:\n",
    "                            if evaluation >= max_eval:\n",
    "                                if evaluation > data[1]:\n",
    "                                    data.clear()\n",
    "                                    data[1] = evaluation\n",
    "                                    data[0] = [piece, move, evaluation]\n",
    "                                elif evaluation == data[1]:\n",
    "                                    data[0].append([piece, move, evaluation])\n",
    "                        board.unmake_move(piece)\n",
    "                        max_eval = max(max_eval, evaluation)\n",
    "                        alpha = max(alpha, evaluation)\n",
    "                        if beta <= alpha:\n",
    "                            break\n",
    "        return data\n",
    "    else:\n",
    "        min_eval = math.inf\n",
    "        for i in range(8):\n",
    "            for j in range(8):\n",
    "                if isinstance(board[i][j], ChessPiece) and board[i][j].color == board.get_player_color():\n",
    "                    piece = board[i][j]\n",
    "                    moves = piece.get_moves(board)\n",
    "                    for move in moves:\n",
    "                        board.make_move(piece, move[0], move[1], keep_history=True)\n",
    "                        evaluation = minimax_with_transposition(board, depth - 1, alpha, beta, True, False, data)[1]\n",
    "                        board.unmake_move(piece)\n",
    "                        min_eval = min(min_eval, evaluation)\n",
    "                        beta = min(beta, evaluation)\n",
    "                        if beta <= alpha:\n",
    "                            break\n",
    "\n",
    "    transposition_table[key] = data\n",
    "    # add key to table\n",
    "    return data\n",
    "\n",
    "def minimax_progressive_deepening(board, max_depth, alpha, beta, max_player, save_move, data):\n",
    "    best_move = None\n",
    "    for depth in range(1, max_depth + 1):\n",
    "        # iterate for every deepening level from 1 to n+1\n",
    "        result = minimax_with_transposition(board, depth, alpha, beta, max_player, save_move, data)\n",
    "        if best_move is None or result[1] > best_move[1]:\n",
    "            best_move = result\n",
    "    return best_move"
   ]
  },
  {
   "cell_type": "markdown",
   "id": "dd964336-56b2-4c9f-af09-5dd954ecdd61",
   "metadata": {
    "id": "0e29d59a"
   },
   "source": [
    "## Conclusions:"
   ]
  },
  {
   "cell_type": "markdown",
   "id": "7m6C-NhzzLy8",
   "metadata": {
    "id": "7m6C-NhzzLy8"
   },
   "source": [
    "During this work I studied Minimax algorithm and Alpha-Beta Prunning for completing an existing Chess Engine."
   ]
  },
  {
   "cell_type": "markdown",
   "id": "zwGzGeqmzU-l",
   "metadata": {
    "id": "zwGzGeqmzU-l"
   },
   "source": [
    "## Bibliography:"
   ]
  },
  {
   "cell_type": "markdown",
   "id": "5DrArOXRzWet",
   "metadata": {
    "id": "5DrArOXRzWet"
   },
   "source": [
    "1. Develop Chess Engine using minimax: https://www.freecodecamp.org/news/simple-chess-ai-step-by-step-1d55a9266977/\n",
    "2. Minimax algorithm in chess: https://www.idtech.com/blog/minimax-algorithm-in-chess-checkers-tic-tac-toe\n",
    "3. Alpha-Beta Prunning: https://www.chess.com/blog/the_real_greco/engines-navigating-the-tree-ab-pruning-minimax\n",
    "4. Transpositional Tables: https://www.chessprogramming.org/Transposition_Table\n",
    "5. Progressive Deepening: https://www.chessprogramming.org/Iterative_Deepening"
   ]
  }
 ],
 "metadata": {
  "colab": {
   "provenance": []
  },
  "kernelspec": {
   "display_name": "Python 3 (ipykernel)",
   "language": "python",
   "name": "python3"
  },
  "language_info": {
   "codemirror_mode": {
    "name": "ipython",
    "version": 3
   },
   "file_extension": ".py",
   "mimetype": "text/x-python",
   "name": "python",
   "nbconvert_exporter": "python",
   "pygments_lexer": "ipython3",
   "version": "3.11.4"
  },
  "toc": {
   "base_numbering": 1,
   "nav_menu": {},
   "number_sections": true,
   "sideBar": true,
   "skip_h1_title": false,
   "title_cell": "Table of Contents",
   "title_sidebar": "Contents",
   "toc_cell": false,
   "toc_position": {},
   "toc_section_display": true,
   "toc_window_display": false
  }
 },
 "nbformat": 4,
 "nbformat_minor": 5
}
