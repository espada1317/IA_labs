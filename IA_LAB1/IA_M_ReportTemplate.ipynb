{
 "cells": [
  {
   "cell_type": "markdown",
   "id": "7d252a8d",
   "metadata": {
    "id": "7d252a8d"
   },
   "source": [
    "# FCIM.M.IA - Artificial Intelligence\n",
    "\n",
    "> **Lab X:** Expert Systems \\\\\n",
    "> **Performed by:** Trifan Denis, group TI-231M \\\\\n",
    "> **Verified by:** Mihail Gavrilita, asist. univ."
   ]
  },
  {
   "cell_type": "markdown",
   "id": "BPiGwyyGNsHh",
   "metadata": {
    "id": "BPiGwyyGNsHh"
   },
   "source": [
    "## Imports and Utils"
   ]
  },
  {
   "cell_type": "code",
   "execution_count": 5,
   "id": "533fd9fa",
   "metadata": {
    "ExecuteTime": {
     "end_time": "2022-01-23T09:47:05.838671Z",
     "start_time": "2022-01-23T09:47:05.834860Z"
    },
    "id": "533fd9fa"
   },
   "outputs": [
    {
     "ename": "ModuleNotFoundError",
     "evalue": "No module named 'regex'",
     "output_type": "error",
     "traceback": [
      "\u001b[1;31m---------------------------------------------------------------------------\u001b[0m",
      "\u001b[1;31mModuleNotFoundError\u001b[0m                       Traceback (most recent call last)",
      "Cell \u001b[1;32mIn[5], line 1\u001b[0m\n\u001b[1;32m----> 1\u001b[0m \u001b[38;5;28;01mfrom\u001b[39;00m \u001b[38;5;21;01mproduction\u001b[39;00m \u001b[38;5;28;01mimport\u001b[39;00m IF, AND, THEN, OR, DELETE, NOT, FAIL\n\u001b[0;32m      2\u001b[0m \u001b[38;5;28;01mfrom\u001b[39;00m \u001b[38;5;21;01mproduction\u001b[39;00m \u001b[38;5;28;01mimport\u001b[39;00m forward_chain, backward_chain\n\u001b[0;32m      3\u001b[0m \u001b[38;5;28;01mfrom\u001b[39;00m \u001b[38;5;21;01mutils\u001b[39;00m \u001b[38;5;28;01mimport\u001b[39;00m print_element_with_capital\n",
      "File \u001b[1;32m~\\OneDrive\\Desktop\\IA\\IA_labs\\IA_LAB1\\production.py:8\u001b[0m\n\u001b[0;32m      5\u001b[0m     \u001b[38;5;28;01mimport\u001b[39;00m \u001b[38;5;21;01mre\u001b[39;00m\n\u001b[0;32m      7\u001b[0m \u001b[38;5;28;01melif\u001b[39;00m sys\u001b[38;5;241m.\u001b[39mversion[\u001b[38;5;241m0\u001b[39m] \u001b[38;5;241m==\u001b[39m \u001b[38;5;124m'\u001b[39m\u001b[38;5;124m3\u001b[39m\u001b[38;5;124m'\u001b[39m:\n\u001b[1;32m----> 8\u001b[0m     \u001b[38;5;28;01mimport\u001b[39;00m \u001b[38;5;21;01mregex\u001b[39;00m \u001b[38;5;28;01mas\u001b[39;00m \u001b[38;5;21;01mre\u001b[39;00m\n\u001b[0;32m     10\u001b[0m \u001b[38;5;28;01mfrom\u001b[39;00m \u001b[38;5;21;01mutils\u001b[39;00m \u001b[38;5;28;01mimport\u001b[39;00m \u001b[38;5;241m*\u001b[39m\n\u001b[0;32m     12\u001b[0m \u001b[38;5;28;01mtry\u001b[39;00m:\n",
      "\u001b[1;31mModuleNotFoundError\u001b[0m: No module named 'regex'"
     ]
    }
   ],
   "source": [
    "from production import IF, AND, THEN, OR, DELETE, NOT, FAIL\n",
    "from production import forward_chain, backward_chain\n",
    "from utils import print_element_with_capital\n",
    "from rules import FANTASY_RULES, INITIAL_TRUTHS, MID_AND_TRUTHS\n",
    "import random"
   ]
  },
  {
   "cell_type": "markdown",
   "id": "7146ed9b",
   "metadata": {
    "id": "7146ed9b"
   },
   "source": [
    "## Task 2 -- Implement the rules from the defined tree in Task 1 in your code (use the IF, AND, OR and THEN rules which are already implemented)"
   ]
  },
  {
   "cell_type": "code",
   "execution_count": null,
   "id": "6531cedd",
   "metadata": {
    "ExecuteTime": {
     "end_time": "2022-01-23T09:47:15.094380Z",
     "start_time": "2022-01-23T09:47:15.090135Z"
    },
    "id": "6531cedd"
   },
   "outputs": [],
   "source": [
    "FANTASY_RULES = (\n",
    "\n",
    "    IF(AND('(?x) has bird feather',  # R1\n",
    "           '(?x) has musical instrument'),\n",
    "       THEN('(?x) is a poet')),\n",
    "\n",
    "    IF(AND('(?x) has colorful clothes',  # R2\n",
    "           '(?x) has jewelry'),\n",
    "       THEN('(?x) is stylish')),\n",
    "\n",
    "    IF(AND('(?x) wears sword',  # R3\n",
    "           '(?x) wears shining armor'),\n",
    "       THEN('(?x) is warrior')),\n",
    "\n",
    "    IF(AND('(?x) has blonde hair',  # R4\n",
    "           '(?x) has blue eyes',\n",
    "           '(?x) is young'),\n",
    "       THEN('(?x) is handsome')),\n",
    "\n",
    "    IF(OR('(?x) travels on horse',  # R5\n",
    "          '(?x) travels lightly'),\n",
    "       THEN('(?x) is adventurer')),\n",
    "\n",
    "    IF(AND('(?x) wears robes',  # R7\n",
    "           '(?x) wears black clothing'),\n",
    "       THEN('(?x) has symbolic profession')),\n",
    "\n",
    "    IF(AND('(?x) is bald',  # R8\n",
    "           '(?x) has beads',\n",
    "           '(?x) has beard',\n",
    "           '(?x) is old'),\n",
    "       THEN('(?x) is believer')),\n",
    "\n",
    "    IF(OR('(?x) has symbol of cross',   # R9\n",
    "          \"(?x) is believer\"),\n",
    "       THEN('(?x) is christian')),\n",
    "\n",
    "    IF(AND('(?x) has beard',  # R10\n",
    "           '(?x) is old',\n",
    "           '(?x) has grizzle hair'),\n",
    "       THEN('(?x) has a lot of experience')),\n",
    "\n",
    "    IF(AND('(?x) has a lot of experience',  # R11\n",
    "           '(?x) has mysterious books',\n",
    "           '(?x) has potions'),\n",
    "       THEN('(?x) studies science')),\n",
    "\n",
    "    IF(AND('(?x) studies science',  # R12\n",
    "           '(?x) has runes'),\n",
    "       THEN('(?x) studies magical science')),\n",
    "\n",
    "    IF(AND('(?x) studies magical science',  # 13\n",
    "           '(?x) has symbolic profession',\n",
    "           '(?x) has magic staff'),\n",
    "       THEN('(?x) is an ARCHMAGE')),\n",
    "\n",
    "    IF(AND('(?x) has symbolic profession',  # R14\n",
    "           '(?x) has star sign',\n",
    "           '(?x) studies magical science'),\n",
    "       THEN('(?x) is an ALCHEMIST')),\n",
    "\n",
    "    IF(AND('(?x) is adventurer',  # R15\n",
    "           '(?x) has symbolic profession',\n",
    "           '(?x) is christian'),\n",
    "       THEN('(?x) is a MONK')),\n",
    "\n",
    "    IF(AND('(?x) has herald',  # R16\n",
    "           '(?x) is warrior',\n",
    "           '(?x) is handsome',\n",
    "           '(?x) is adventurer',\n",
    "           '(?x) is christian'),\n",
    "       THEN('(?x) is a KNIGHT')),\n",
    "\n",
    "    IF(AND('(?x) is a poet',  # R17\n",
    "           '(?x) is stylish',\n",
    "           '(?x) is handsome',\n",
    "           '(?x) is adventurer'),\n",
    "       THEN('(?x) is a BARD')),\n",
    "\n",
    ")"
   ]
  },
  {
   "cell_type": "markdown",
   "id": "870da7ab-b304-40db-9eac-c2b7724790b4",
   "metadata": {
    "id": "0938e3e4"
   },
   "source": [
    "## Task 4 -- Implement the Backward Chaining algorithm for the Goal Tree."
   ]
  },
  {
   "cell_type": "code",
   "execution_count": 2,
   "id": "6b0859a4",
   "metadata": {
    "id": "6b0859a4"
   },
   "outputs": [],
   "source": [
    "def backward_chain(rules, hypothesis, verbose=False):\n",
    "    \"\"\"\n",
    "    Outputs the goal tree from having rules and hypothesis, works like an \"encyclopedia\"\n",
    "    \"\"\"\n",
    "    length = len(rules)\n",
    "    if length == 0:\n",
    "        return hypothesis\n",
    "    tree = AND()\n",
    "    for element in rules:\n",
    "        consequent = element.consequent()\n",
    "        mat = match(consequent[0], hypothesis)\n",
    "        if mat is not None and len(mat) >= 0:\n",
    "            antecedent = element.antecedent()\n",
    "            if isinstance(antecedent, list):\n",
    "                sub = OR() if isinstance(antecedent, OR) else AND()\n",
    "                for x in antecedent:\n",
    "                    new_tree = backward_chain(rules, populate(x, mat))\n",
    "                    sub.append(new_tree)\n",
    "                tree.append(sub)\n",
    "    tree.append(hypothesis)\n",
    "    return simplify(tree)"
   ]
  },
  {
   "cell_type": "markdown",
   "id": "3f67a3d5",
   "metadata": {
    "id": "3f67a3d5"
   },
   "source": [
    "## Task 5 -- Implement a system for generating questions from the Goal Tree. Have at least 2 or 3 types of questions (e.g yes / no, multiple choice, etc). "
   ]
  },
  {
   "cell_type": "code",
   "execution_count": null,
   "id": "046623ad",
   "metadata": {
    "id": "046623ad"
   },
   "outputs": [],
   "source": [
    "INITIAL_TRUTHS = {\n",
    "    'has bird feather': 'He has bird feather?',\n",
    "    'has musical instrument': 'He has musical instrument?',\n",
    "    'has colorful clothes': 'He has colorful clothes?',\n",
    "    'has jewelry': 'He has jewelry?',\n",
    "    'wears sword': 'He wears sword?',\n",
    "    'wears shining armor': 'He wears shining armor?',\n",
    "    'has blonde hair': 'He has blonde hair?',\n",
    "    'has blue eyes': 'He has blue eyes?',\n",
    "    'is young': 'He is young?',\n",
    "    'travels on horse': 'He travels on horse?',\n",
    "    'travels lightly': 'He travels lightly?',\n",
    "    'wears robes': 'He wears robes?',\n",
    "    'wears black clothing': 'He wears black clothing?',\n",
    "    'is bald': 'He is bald?',\n",
    "    'has beads': 'He has beads?',\n",
    "    'has beard': 'He has beard?',\n",
    "    'is old': 'He is old?',\n",
    "    'has grizzle hair': 'He has grizzle hair?',\n",
    "    'has symbol of cross': 'He has symbol of cross?',\n",
    "    'has mysterious books': 'He has mysterious books?',\n",
    "    'has potions': 'He has potions?',\n",
    "    'has runes': 'He has runes?',\n",
    "    'has magic staff': 'He has magic staff?',\n",
    "    'has star sign': 'He has star sign?',\n",
    "    'has herald': 'He has herald?'\n",
    "}\n",
    "\n",
    "def generate_question():\n",
    "    random_key = random.choice(list(INITIAL_TRUTHS.keys()))\n",
    "    random_value = INITIAL_TRUTHS[random_key]\n",
    "    return random_key, random_value"
   ]
  },
  {
   "cell_type": "markdown",
   "id": "9aba21fc-6c3f-444f-998f-a24c6cf0f93d",
   "metadata": {
    "id": "3f67a3d5"
   },
   "source": [
    "## Task 6 -- Wrap up everything in an interactive Expert System that will dynamically ask questions based on the input from the user. Both Forward Chaining and Backward Chaining should be working. "
   ]
  },
  {
   "cell_type": "code",
   "execution_count": 3,
   "id": "02702fa7-4e4e-4a0a-8a33-ec8e07b861ab",
   "metadata": {
    "id": "046623ad"
   },
   "outputs": [],
   "source": [
    "MID_AND_TRUTHS = (\n",
    "    'is a poet',\n",
    "    'is stylish',\n",
    "    'is warrior',\n",
    "    'has symbolic profession',\n",
    "    'is believer',\n",
    "    'has a lot of experience',\n",
    "    'is handsome'\n",
    ")\n",
    "\n",
    "def remove_question_from_map(truth):\n",
    "    if truth in INITIAL_TRUTHS:\n",
    "        INITIAL_TRUTHS.pop(truth)\n",
    "\n",
    "def remove_unnecessary_truths(truth):\n",
    "    check_truth = \"he \" + truth\n",
    "    for mid_truth in MID_AND_TRUTHS:\n",
    "        list_bounded_truths = backward_chain(FANTASY_RULES, \"he \" + mid_truth)\n",
    "        if check_truth in list_bounded_truths:\n",
    "            for elem in list_bounded_truths:\n",
    "                trimmed_elem = elem.replace(\"he\", \"\").strip()\n",
    "                remove_question_from_map(trimmed_elem)\n",
    "\n",
    "def akinator_clone_algorithm():\n",
    "    character_info = ()\n",
    "    result = \"\"\n",
    "    while len(INITIAL_TRUTHS) > 0:\n",
    "        truth, question = generate_question()\n",
    "        answer = input(question + \"  (Y/N):  \")\n",
    "        if answer.lower() == \"y\":\n",
    "            character_info += (\"he \" + truth,)\n",
    "        elif answer.lower() == \"n\":\n",
    "            remove_unnecessary_truths(truth)\n",
    "        else:\n",
    "            continue\n",
    "        remove_question_from_map(truth)\n",
    "        if print_element_with_capital(forward_chain(FANTASY_RULES, character_info)) is not None:\n",
    "            result = print_element_with_capital(forward_chain(FANTASY_RULES, character_info))\n",
    "            break\n",
    "    if len(result) == 0:\n",
    "        print(\"Answer -> You are watching an ordinary city folk\")\n",
    "    else:\n",
    "        print(\"Answer # \" + result)"
   ]
  },
  {
   "cell_type": "markdown",
   "id": "0e29d59a",
   "metadata": {
    "id": "0e29d59a"
   },
   "source": [
    "## Conclusions:"
   ]
  },
  {
   "cell_type": "markdown",
   "id": "7m6C-NhzzLy8",
   "metadata": {
    "id": "7m6C-NhzzLy8"
   },
   "source": [
    "During the laboratory, I researched how an expert system works. I debugged the forward_chaining functionality and based on it I developed the backward_chaining functionality. In the same way, I developed a system for generating questions based on the initial truths and a system for eliminating the question already proposed and the questions in the chain if they are attributed to an intermediate truth. Now I can create any expert system regardless of the field of use.\n",
    "An important thing for defining the final statements in expert systems is to do a long and complex analysis regarding all the links between the nodes and which truths are specific to only one object or which characteristics are common.\n",
    "But most importantly, I touched the Python language for the first time."
   ]
  },
  {
   "cell_type": "markdown",
   "id": "zwGzGeqmzU-l",
   "metadata": {
    "id": "zwGzGeqmzU-l"
   },
   "source": [
    "## Bibliography:"
   ]
  },
  {
   "cell_type": "markdown",
   "id": "5DrArOXRzWet",
   "metadata": {
    "id": "5DrArOXRzWet"
   },
   "source": [
    "1. Python for newbies - https://pythonworld.ru\n",
    "2. Akinator Expert System - https://en.akinator.com\n",
    "3. How looks medieval knight - https://www.reddit.com/r/AskHistorians/comments/ceo5lm/what_would_the_physique_of_a_medieval_knight_have/"
   ]
  }
 ],
 "metadata": {
  "colab": {
   "provenance": []
  },
  "kernelspec": {
   "display_name": "Python 3 (ipykernel)",
   "language": "python",
   "name": "python3"
  },
  "language_info": {
   "codemirror_mode": {
    "name": "ipython",
    "version": 3
   },
   "file_extension": ".py",
   "mimetype": "text/x-python",
   "name": "python",
   "nbconvert_exporter": "python",
   "pygments_lexer": "ipython3",
   "version": "3.11.4"
  },
  "toc": {
   "base_numbering": 1,
   "nav_menu": {},
   "number_sections": true,
   "sideBar": true,
   "skip_h1_title": false,
   "title_cell": "Table of Contents",
   "title_sidebar": "Contents",
   "toc_cell": false,
   "toc_position": {},
   "toc_section_display": true,
   "toc_window_display": false
  }
 },
 "nbformat": 4,
 "nbformat_minor": 5
}
